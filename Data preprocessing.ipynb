{
  "nbformat": 4,
  "nbformat_minor": 0,
  "metadata": {
    "colab": {
      "provenance": []
    },
    "kernelspec": {
      "name": "python3",
      "display_name": "Python 3"
    },
    "language_info": {
      "name": "python"
    },
    "accelerator": "GPU",
    "gpuClass": "standard"
  },
  "cells": [
    {
      "cell_type": "code",
      "execution_count": 1,
      "metadata": {
        "colab": {
          "base_uri": "https://localhost:8080/"
        },
        "id": "iXpn8cbsDTKI",
        "outputId": "cb698613-1dda-4cb7-a160-8e3384cfbf67"
      },
      "outputs": [
        {
          "output_type": "stream",
          "name": "stdout",
          "text": [
            "Looking in indexes: https://pypi.org/simple, https://us-python.pkg.dev/colab-wheels/public/simple/\n",
            "Collecting rdkit-pypi\n",
            "  Downloading rdkit_pypi-2022.9.5-cp39-cp39-manylinux_2_17_x86_64.manylinux2014_x86_64.whl (29.4 MB)\n",
            "\u001b[2K     \u001b[90m━━━━━━━━━━━━━━━━━━━━━━━━━━━━━━━━━━━━━━━━\u001b[0m \u001b[32m29.4/29.4 MB\u001b[0m \u001b[31m37.0 MB/s\u001b[0m eta \u001b[36m0:00:00\u001b[0m\n",
            "\u001b[?25hRequirement already satisfied: Pillow in /usr/local/lib/python3.9/dist-packages (from rdkit-pypi) (8.4.0)\n",
            "Requirement already satisfied: numpy in /usr/local/lib/python3.9/dist-packages (from rdkit-pypi) (1.22.4)\n",
            "Installing collected packages: rdkit-pypi\n",
            "Successfully installed rdkit-pypi-2022.9.5\n"
          ]
        }
      ],
      "source": [
        "!pip install rdkit-pypi"
      ]
    },
    {
      "cell_type": "code",
      "source": [
        "#Import the necessary libraries\n",
        "from rdkit import Chem\n",
        "from rdkit.Chem import AllChem\n",
        "from rdkit.Chem import DataStructs\n",
        "import pandas as pd\n",
        "from rdkit.Chem import PandasTools"
      ],
      "metadata": {
        "id": "zlsFtAKrDdLD"
      },
      "execution_count": 2,
      "outputs": []
    },
    {
      "cell_type": "code",
      "source": [
        "#Upload the dataset files\n",
        "from google.colab import files\n",
        "uploaded = files.upload()"
      ],
      "metadata": {
        "colab": {
          "base_uri": "https://localhost:8080/",
          "height": 177
        },
        "id": "ekQ6A5nMEHY8",
        "outputId": "0e1000e7-779b-4202-8018-9d9b621a2f88"
      },
      "execution_count": 6,
      "outputs": [
        {
          "output_type": "display_data",
          "data": {
            "text/plain": [
              "<IPython.core.display.HTML object>"
            ],
            "text/html": [
              "\n",
              "     <input type=\"file\" id=\"files-c4e2d61a-fe78-41f2-b3fe-76b7d4490071\" name=\"files[]\" multiple disabled\n",
              "        style=\"border:none\" />\n",
              "     <output id=\"result-c4e2d61a-fe78-41f2-b3fe-76b7d4490071\">\n",
              "      Upload widget is only available when the cell has been executed in the\n",
              "      current browser session. Please rerun this cell to enable.\n",
              "      </output>\n",
              "      <script>// Copyright 2017 Google LLC\n",
              "//\n",
              "// Licensed under the Apache License, Version 2.0 (the \"License\");\n",
              "// you may not use this file except in compliance with the License.\n",
              "// You may obtain a copy of the License at\n",
              "//\n",
              "//      http://www.apache.org/licenses/LICENSE-2.0\n",
              "//\n",
              "// Unless required by applicable law or agreed to in writing, software\n",
              "// distributed under the License is distributed on an \"AS IS\" BASIS,\n",
              "// WITHOUT WARRANTIES OR CONDITIONS OF ANY KIND, either express or implied.\n",
              "// See the License for the specific language governing permissions and\n",
              "// limitations under the License.\n",
              "\n",
              "/**\n",
              " * @fileoverview Helpers for google.colab Python module.\n",
              " */\n",
              "(function(scope) {\n",
              "function span(text, styleAttributes = {}) {\n",
              "  const element = document.createElement('span');\n",
              "  element.textContent = text;\n",
              "  for (const key of Object.keys(styleAttributes)) {\n",
              "    element.style[key] = styleAttributes[key];\n",
              "  }\n",
              "  return element;\n",
              "}\n",
              "\n",
              "// Max number of bytes which will be uploaded at a time.\n",
              "const MAX_PAYLOAD_SIZE = 100 * 1024;\n",
              "\n",
              "function _uploadFiles(inputId, outputId) {\n",
              "  const steps = uploadFilesStep(inputId, outputId);\n",
              "  const outputElement = document.getElementById(outputId);\n",
              "  // Cache steps on the outputElement to make it available for the next call\n",
              "  // to uploadFilesContinue from Python.\n",
              "  outputElement.steps = steps;\n",
              "\n",
              "  return _uploadFilesContinue(outputId);\n",
              "}\n",
              "\n",
              "// This is roughly an async generator (not supported in the browser yet),\n",
              "// where there are multiple asynchronous steps and the Python side is going\n",
              "// to poll for completion of each step.\n",
              "// This uses a Promise to block the python side on completion of each step,\n",
              "// then passes the result of the previous step as the input to the next step.\n",
              "function _uploadFilesContinue(outputId) {\n",
              "  const outputElement = document.getElementById(outputId);\n",
              "  const steps = outputElement.steps;\n",
              "\n",
              "  const next = steps.next(outputElement.lastPromiseValue);\n",
              "  return Promise.resolve(next.value.promise).then((value) => {\n",
              "    // Cache the last promise value to make it available to the next\n",
              "    // step of the generator.\n",
              "    outputElement.lastPromiseValue = value;\n",
              "    return next.value.response;\n",
              "  });\n",
              "}\n",
              "\n",
              "/**\n",
              " * Generator function which is called between each async step of the upload\n",
              " * process.\n",
              " * @param {string} inputId Element ID of the input file picker element.\n",
              " * @param {string} outputId Element ID of the output display.\n",
              " * @return {!Iterable<!Object>} Iterable of next steps.\n",
              " */\n",
              "function* uploadFilesStep(inputId, outputId) {\n",
              "  const inputElement = document.getElementById(inputId);\n",
              "  inputElement.disabled = false;\n",
              "\n",
              "  const outputElement = document.getElementById(outputId);\n",
              "  outputElement.innerHTML = '';\n",
              "\n",
              "  const pickedPromise = new Promise((resolve) => {\n",
              "    inputElement.addEventListener('change', (e) => {\n",
              "      resolve(e.target.files);\n",
              "    });\n",
              "  });\n",
              "\n",
              "  const cancel = document.createElement('button');\n",
              "  inputElement.parentElement.appendChild(cancel);\n",
              "  cancel.textContent = 'Cancel upload';\n",
              "  const cancelPromise = new Promise((resolve) => {\n",
              "    cancel.onclick = () => {\n",
              "      resolve(null);\n",
              "    };\n",
              "  });\n",
              "\n",
              "  // Wait for the user to pick the files.\n",
              "  const files = yield {\n",
              "    promise: Promise.race([pickedPromise, cancelPromise]),\n",
              "    response: {\n",
              "      action: 'starting',\n",
              "    }\n",
              "  };\n",
              "\n",
              "  cancel.remove();\n",
              "\n",
              "  // Disable the input element since further picks are not allowed.\n",
              "  inputElement.disabled = true;\n",
              "\n",
              "  if (!files) {\n",
              "    return {\n",
              "      response: {\n",
              "        action: 'complete',\n",
              "      }\n",
              "    };\n",
              "  }\n",
              "\n",
              "  for (const file of files) {\n",
              "    const li = document.createElement('li');\n",
              "    li.append(span(file.name, {fontWeight: 'bold'}));\n",
              "    li.append(span(\n",
              "        `(${file.type || 'n/a'}) - ${file.size} bytes, ` +\n",
              "        `last modified: ${\n",
              "            file.lastModifiedDate ? file.lastModifiedDate.toLocaleDateString() :\n",
              "                                    'n/a'} - `));\n",
              "    const percent = span('0% done');\n",
              "    li.appendChild(percent);\n",
              "\n",
              "    outputElement.appendChild(li);\n",
              "\n",
              "    const fileDataPromise = new Promise((resolve) => {\n",
              "      const reader = new FileReader();\n",
              "      reader.onload = (e) => {\n",
              "        resolve(e.target.result);\n",
              "      };\n",
              "      reader.readAsArrayBuffer(file);\n",
              "    });\n",
              "    // Wait for the data to be ready.\n",
              "    let fileData = yield {\n",
              "      promise: fileDataPromise,\n",
              "      response: {\n",
              "        action: 'continue',\n",
              "      }\n",
              "    };\n",
              "\n",
              "    // Use a chunked sending to avoid message size limits. See b/62115660.\n",
              "    let position = 0;\n",
              "    do {\n",
              "      const length = Math.min(fileData.byteLength - position, MAX_PAYLOAD_SIZE);\n",
              "      const chunk = new Uint8Array(fileData, position, length);\n",
              "      position += length;\n",
              "\n",
              "      const base64 = btoa(String.fromCharCode.apply(null, chunk));\n",
              "      yield {\n",
              "        response: {\n",
              "          action: 'append',\n",
              "          file: file.name,\n",
              "          data: base64,\n",
              "        },\n",
              "      };\n",
              "\n",
              "      let percentDone = fileData.byteLength === 0 ?\n",
              "          100 :\n",
              "          Math.round((position / fileData.byteLength) * 100);\n",
              "      percent.textContent = `${percentDone}% done`;\n",
              "\n",
              "    } while (position < fileData.byteLength);\n",
              "  }\n",
              "\n",
              "  // All done.\n",
              "  yield {\n",
              "    response: {\n",
              "      action: 'complete',\n",
              "    }\n",
              "  };\n",
              "}\n",
              "\n",
              "scope.google = scope.google || {};\n",
              "scope.google.colab = scope.google.colab || {};\n",
              "scope.google.colab._files = {\n",
              "  _uploadFiles,\n",
              "  _uploadFilesContinue,\n",
              "};\n",
              "})(self);\n",
              "</script> "
            ]
          },
          "metadata": {}
        },
        {
          "output_type": "stream",
          "name": "stdout",
          "text": [
            "Saving FDA-approved-Drug-Library_noPPI_20%test_set.sdf to FDA-approved-Drug-Library_noPPI_20%test_set.sdf\n",
            "Saving FDA-approved-Drug-Library_noPPI_80%training_set.sdf to FDA-approved-Drug-Library_noPPI_80%training_set.sdf\n",
            "Saving LVcleaned_2p2idb_20%test_set.sdf to LVcleaned_2p2idb_20%test_set.sdf\n",
            "Saving LVcleaned_2p2idb_80%training_set.sdf to LVcleaned_2p2idb_80%training_set.sdf\n"
          ]
        }
      ]
    },
    {
      "cell_type": "code",
      "source": [
        "# Load the first SDF file and modify the target column\n",
        "df1 = PandasTools.LoadSDF('/content/FDA-approved-Drug-Library_noPPI_80%training_set.sdf')\n",
        "df1['Target'] = df1['Target'].replace(to_replace='.*', value=0, regex=True)\n",
        "\n",
        "# Load the second SDF file and modify the target column\n",
        "df2 = PandasTools.LoadSDF('/content/LVcleaned_2p2idb_80%training_set.sdf')\n",
        "df2['Target'] = df2['Target'].replace(to_replace='.*', value=1, regex=True)\n",
        "\n",
        "# Concatenate the two data frames, keeping the targets in separate data frames\n",
        "target_df1 = df1['Target']\n",
        "target_df2 = df2['Target']\n",
        "df1.drop(columns=['Target'], inplace=True)\n",
        "df2.drop(columns=['Target'], inplace=True)\n",
        "concatenated_df = pd.concat([df1, df2], ignore_index=True)\n",
        "concatenated_target = pd.concat([target_df1, target_df2], ignore_index=True)"
      ],
      "metadata": {
        "colab": {
          "base_uri": "https://localhost:8080/"
        },
        "id": "P7zQo0SPemMG",
        "outputId": "e5668219-0fc4-4ff2-d905-7093547d9ba4"
      },
      "execution_count": 14,
      "outputs": [
        {
          "output_type": "stream",
          "name": "stderr",
          "text": [
            "[15:53:11] Skipping unrecognized collection type at line 93736: MDLV30/STERAC1 BONDS=(1 15)\n",
            "[15:53:12] \n",
            "\n",
            "****\n",
            "Post-condition Violation\n",
            "Element '?' not found\n",
            "Violation occurred on line 93 in file /project/build/temp.linux-x86_64-cpython-39/rdkit/Code/GraphMol/PeriodicTable.h\n",
            "Failed Expression: anum > -1\n",
            "****\n",
            "\n",
            "[15:53:12] ERROR: Element '?' not found\n",
            "[15:53:12] ERROR: moving to the beginning of the next molecule\n",
            "[15:53:12] skipping block at line 150704: 'BEGIN BOND'\n",
            "[15:53:12] skipping block at line 187813: 'BEGIN BOND'\n",
            "[15:53:12] skipping block at line 188798: 'BEGIN BOND'\n",
            "[15:53:12] skipping block at line 190243: 'BEGIN BOND'\n",
            "[15:53:12] skipping block at line 191098: 'BEGIN BOND'\n",
            "[15:53:12] skipping block at line 196306: 'BEGIN BOND'\n",
            "[15:53:12] \n",
            "\n",
            "****\n",
            "Post-condition Violation\n",
            "Element '?' not found\n",
            "Violation occurred on line 93 in file /project/build/temp.linux-x86_64-cpython-39/rdkit/Code/GraphMol/PeriodicTable.h\n",
            "Failed Expression: anum > -1\n",
            "****\n",
            "\n",
            "[15:53:12] ERROR: Element '?' not found\n",
            "[15:53:12] ERROR: moving to the beginning of the next molecule\n",
            "[15:53:12] Explicit valence for atom # 1 N, 4, is greater than permitted\n",
            "[15:53:12] ERROR: Could not sanitize molecule ending on line 211480\n",
            "[15:53:12] ERROR: Explicit valence for atom # 1 N, 4, is greater than permitted\n",
            "[15:53:12] Skipping unrecognized collection type at line 211677: MDLV30/STERAC1 BONDS=(1 7)\n",
            "[15:53:12] \n",
            "\n",
            "****\n",
            "Post-condition Violation\n",
            "Element '?' not found\n",
            "Violation occurred on line 93 in file /project/build/temp.linux-x86_64-cpython-39/rdkit/Code/GraphMol/PeriodicTable.h\n",
            "Failed Expression: anum > -1\n",
            "****\n",
            "\n",
            "[15:53:12] ERROR: Element '?' not found\n",
            "[15:53:12] ERROR: moving to the beginning of the next molecule\n",
            "[15:53:12] skipping block at line 216561: 'BEGIN BOND'\n",
            "[15:53:12] skipping block at line 217001: 'BEGIN BOND'\n",
            "[15:53:13] skipping block at line 230031: 'BEGIN BOND'\n",
            "[15:53:13] Skipping unrecognized collection type at line 243163: MDLV30/STERAC1 BONDS=(1 7)\n",
            "[15:53:13] skipping block at line 246519: 'BEGIN BOND'\n",
            "[15:53:13] Skipping unrecognized collection type at line 94330: MDLV30/STEABS BONDS=(1 12)\n",
            "[15:53:14] Skipping unrecognized collection type at line 110161: MDLV30/STEABS BONDS=(1 5)\n",
            "[15:53:14] Skipping unrecognized collection type at line 122972: MDLV30/STEABS BONDS=(1 4)\n",
            "[15:53:14] Skipping unrecognized collection type at line 125659: MDLV30/STEABS BONDS=(1 10)\n",
            "[15:53:14] Skipping unrecognized collection type at line 136348: MDLV30/STEABS BONDS=(1 5)\n",
            "[15:53:14] Skipping unrecognized collection type at line 143616: MDLV30/STEABS BONDS=(1 5)\n",
            "[15:53:14] Skipping unrecognized collection type at line 144397: MDLV30/STEABS BONDS=(1 5)\n",
            "[15:53:14] Skipping unrecognized collection type at line 150330: MDLV30/STEABS BONDS=(1 6)\n",
            "[15:53:14] Skipping unrecognized collection type at line 154755: MDLV30/STEABS BONDS=(1 7)\n",
            "[15:53:14] Skipping unrecognized collection type at line 155961: MDLV30/STEABS BONDS=(1 4)\n",
            "[15:53:14] Skipping unrecognized collection type at line 163189: MDLV30/STEABS BONDS=(1 5)\n",
            "[15:53:14] Skipping unrecognized collection type at line 164405: MDLV30/STEABS BONDS=(1 10)\n",
            "[15:53:14] Explicit valence for atom # 20 N, 4, is greater than permitted\n",
            "[15:53:14] ERROR: Could not sanitize molecule ending on line 172811\n",
            "[15:53:14] ERROR: Explicit valence for atom # 20 N, 4, is greater than permitted\n",
            "[15:53:14] Skipping unrecognized collection type at line 176718: MDLV30/STEABS BONDS=(1 19)\n",
            "[15:53:14] Skipping unrecognized collection type at line 185287: MDLV30/STEABS BONDS=(1 22)\n",
            "[15:53:14] Skipping unrecognized collection type at line 187825: MDLV30/STEABS BONDS=(1 4)\n",
            "[15:53:14] Skipping unrecognized collection type at line 195437: MDLV30/STEABS BONDS=(1 5)\n"
          ]
        }
      ]
    },
    {
      "cell_type": "code",
      "source": [
        "concatenated_df.shape"
      ],
      "metadata": {
        "colab": {
          "base_uri": "https://localhost:8080/"
        },
        "id": "jmjCXm3V2ysF",
        "outputId": "44bb7f62-de2a-4fb2-97e6-7439b30889dd"
      },
      "execution_count": 15,
      "outputs": [
        {
          "output_type": "execute_result",
          "data": {
            "text/plain": [
              "(3686, 47)"
            ]
          },
          "metadata": {},
          "execution_count": 15
        }
      ]
    },
    {
      "cell_type": "code",
      "source": [
        "concatenated_target.shape"
      ],
      "metadata": {
        "colab": {
          "base_uri": "https://localhost:8080/"
        },
        "id": "gyxvuBw02zIW",
        "outputId": "fd96d166-6e23-4162-ab73-f6a8b2849deb"
      },
      "execution_count": 16,
      "outputs": [
        {
          "output_type": "execute_result",
          "data": {
            "text/plain": [
              "(3686,)"
            ]
          },
          "metadata": {},
          "execution_count": 16
        }
      ]
    },
    {
      "cell_type": "code",
      "source": [
        "concatenated_df.head()"
      ],
      "metadata": {
        "colab": {
          "base_uri": "https://localhost:8080/",
          "height": 455
        },
        "id": "mYed2tDh2EsK",
        "outputId": "3424b410-3a65-4099-dd26-7c30ebe3fd90"
      },
      "execution_count": 17,
      "outputs": [
        {
          "output_type": "execute_result",
          "data": {
            "text/plain": [
              "                                Molecule Name  \\\n",
              "0  S3640 Methoxyphenamine (Hydrochloride).cdx   \n",
              "1            S5267 Nylidrin Hydrochloride.cdx   \n",
              "2                        S5494 Salbutamol.cdx   \n",
              "3                                               \n",
              "4                                               \n",
              "\n",
              "                              Molecule Name 2 Mol_ID        Formula  \\\n",
              "0  S3640 Methoxyphenamine (Hydrochloride).cdx   1787     C11H18ClNO   \n",
              "1            S5267 Nylidrin Hydrochloride.cdx   3969    C19H26ClNO2   \n",
              "2                        S5494 Salbutamol.cdx   4002      C13H21NO3   \n",
              "3                                               6995    C12H20N4O6S   \n",
              "4                                               8062  C10H12N4NaO5S   \n",
              "\n",
              "   MolWeight    Cat                            Name  \\\n",
              "0  215.71972  S3640  Methoxyphenamine Hydrochloride   \n",
              "1  335.86824  S5267          Nylidrin Hydrochloride   \n",
              "2  239.31074  S5494                      Salbutamol   \n",
              "3   348.3754  S0074                      Relebactam   \n",
              "4  323.28085  E0167               Tazobactam Sodium   \n",
              "\n",
              "                                            Synonyms           Form  \\\n",
              "0  2-methoxy-N-methylamphetamine Hydrochloride, O...  hydrochloride   \n",
              "1                            Buphenine hydrochloride  hydrochloride   \n",
              "2                                 Albuterol; AH-3365      free base   \n",
              "3                                                         free base   \n",
              "4        Tazobactam acid Sodium, Tazobactamum Sodium         Sodium   \n",
              "\n",
              "            CAS  ... Deposition_Date Modified_Date 2P2IDB_Date InChIKey  \\\n",
              "0       1347292  ...             NaN           NaN         NaN      NaN   \n",
              "1      849-55-8  ...             NaN           NaN         NaN      NaN   \n",
              "2    18559-94-9  ...             NaN           NaN         NaN      NaN   \n",
              "3  1174018-99-5  ...             NaN           NaN         NaN      NaN   \n",
              "4    89785-84-2  ...             NaN           NaN         NaN      NaN   \n",
              "\n",
              "  SMILES  SDF Partner SystematicName InChI Nasty Functions  \n",
              "0    NaN  NaN     NaN            NaN   NaN             NaN  \n",
              "1    NaN  NaN     NaN            NaN   NaN             NaN  \n",
              "2    NaN  NaN     NaN            NaN   NaN             NaN  \n",
              "3    NaN  NaN     NaN            NaN   NaN             NaN  \n",
              "4    NaN  NaN     NaN            NaN   NaN             NaN  \n",
              "\n",
              "[5 rows x 47 columns]"
            ],
            "text/html": [
              "\n",
              "  <div id=\"df-b0a9722f-6787-4848-b5c5-9f3ad128d75f\">\n",
              "    <div class=\"colab-df-container\">\n",
              "      <div>\n",
              "<style scoped>\n",
              "    .dataframe tbody tr th:only-of-type {\n",
              "        vertical-align: middle;\n",
              "    }\n",
              "\n",
              "    .dataframe tbody tr th {\n",
              "        vertical-align: top;\n",
              "    }\n",
              "\n",
              "    .dataframe thead th {\n",
              "        text-align: right;\n",
              "    }\n",
              "</style>\n",
              "<table border=\"1\" class=\"dataframe\">\n",
              "  <thead>\n",
              "    <tr style=\"text-align: right;\">\n",
              "      <th></th>\n",
              "      <th>Molecule Name</th>\n",
              "      <th>Molecule Name 2</th>\n",
              "      <th>Mol_ID</th>\n",
              "      <th>Formula</th>\n",
              "      <th>MolWeight</th>\n",
              "      <th>Cat</th>\n",
              "      <th>Name</th>\n",
              "      <th>Synonyms</th>\n",
              "      <th>Form</th>\n",
              "      <th>CAS</th>\n",
              "      <th>...</th>\n",
              "      <th>Deposition_Date</th>\n",
              "      <th>Modified_Date</th>\n",
              "      <th>2P2IDB_Date</th>\n",
              "      <th>InChIKey</th>\n",
              "      <th>SMILES</th>\n",
              "      <th>SDF</th>\n",
              "      <th>Partner</th>\n",
              "      <th>SystematicName</th>\n",
              "      <th>InChI</th>\n",
              "      <th>Nasty Functions</th>\n",
              "    </tr>\n",
              "  </thead>\n",
              "  <tbody>\n",
              "    <tr>\n",
              "      <th>0</th>\n",
              "      <td>S3640 Methoxyphenamine (Hydrochloride).cdx</td>\n",
              "      <td>S3640 Methoxyphenamine (Hydrochloride).cdx</td>\n",
              "      <td>1787</td>\n",
              "      <td>C11H18ClNO</td>\n",
              "      <td>215.71972</td>\n",
              "      <td>S3640</td>\n",
              "      <td>Methoxyphenamine Hydrochloride</td>\n",
              "      <td>2-methoxy-N-methylamphetamine Hydrochloride, O...</td>\n",
              "      <td>hydrochloride</td>\n",
              "      <td>1347292</td>\n",
              "      <td>...</td>\n",
              "      <td>NaN</td>\n",
              "      <td>NaN</td>\n",
              "      <td>NaN</td>\n",
              "      <td>NaN</td>\n",
              "      <td>NaN</td>\n",
              "      <td>NaN</td>\n",
              "      <td>NaN</td>\n",
              "      <td>NaN</td>\n",
              "      <td>NaN</td>\n",
              "      <td>NaN</td>\n",
              "    </tr>\n",
              "    <tr>\n",
              "      <th>1</th>\n",
              "      <td>S5267 Nylidrin Hydrochloride.cdx</td>\n",
              "      <td>S5267 Nylidrin Hydrochloride.cdx</td>\n",
              "      <td>3969</td>\n",
              "      <td>C19H26ClNO2</td>\n",
              "      <td>335.86824</td>\n",
              "      <td>S5267</td>\n",
              "      <td>Nylidrin Hydrochloride</td>\n",
              "      <td>Buphenine hydrochloride</td>\n",
              "      <td>hydrochloride</td>\n",
              "      <td>849-55-8</td>\n",
              "      <td>...</td>\n",
              "      <td>NaN</td>\n",
              "      <td>NaN</td>\n",
              "      <td>NaN</td>\n",
              "      <td>NaN</td>\n",
              "      <td>NaN</td>\n",
              "      <td>NaN</td>\n",
              "      <td>NaN</td>\n",
              "      <td>NaN</td>\n",
              "      <td>NaN</td>\n",
              "      <td>NaN</td>\n",
              "    </tr>\n",
              "    <tr>\n",
              "      <th>2</th>\n",
              "      <td>S5494 Salbutamol.cdx</td>\n",
              "      <td>S5494 Salbutamol.cdx</td>\n",
              "      <td>4002</td>\n",
              "      <td>C13H21NO3</td>\n",
              "      <td>239.31074</td>\n",
              "      <td>S5494</td>\n",
              "      <td>Salbutamol</td>\n",
              "      <td>Albuterol; AH-3365</td>\n",
              "      <td>free base</td>\n",
              "      <td>18559-94-9</td>\n",
              "      <td>...</td>\n",
              "      <td>NaN</td>\n",
              "      <td>NaN</td>\n",
              "      <td>NaN</td>\n",
              "      <td>NaN</td>\n",
              "      <td>NaN</td>\n",
              "      <td>NaN</td>\n",
              "      <td>NaN</td>\n",
              "      <td>NaN</td>\n",
              "      <td>NaN</td>\n",
              "      <td>NaN</td>\n",
              "    </tr>\n",
              "    <tr>\n",
              "      <th>3</th>\n",
              "      <td></td>\n",
              "      <td></td>\n",
              "      <td>6995</td>\n",
              "      <td>C12H20N4O6S</td>\n",
              "      <td>348.3754</td>\n",
              "      <td>S0074</td>\n",
              "      <td>Relebactam</td>\n",
              "      <td></td>\n",
              "      <td>free base</td>\n",
              "      <td>1174018-99-5</td>\n",
              "      <td>...</td>\n",
              "      <td>NaN</td>\n",
              "      <td>NaN</td>\n",
              "      <td>NaN</td>\n",
              "      <td>NaN</td>\n",
              "      <td>NaN</td>\n",
              "      <td>NaN</td>\n",
              "      <td>NaN</td>\n",
              "      <td>NaN</td>\n",
              "      <td>NaN</td>\n",
              "      <td>NaN</td>\n",
              "    </tr>\n",
              "    <tr>\n",
              "      <th>4</th>\n",
              "      <td></td>\n",
              "      <td></td>\n",
              "      <td>8062</td>\n",
              "      <td>C10H12N4NaO5S</td>\n",
              "      <td>323.28085</td>\n",
              "      <td>E0167</td>\n",
              "      <td>Tazobactam Sodium</td>\n",
              "      <td>Tazobactam acid Sodium, Tazobactamum Sodium</td>\n",
              "      <td>Sodium</td>\n",
              "      <td>89785-84-2</td>\n",
              "      <td>...</td>\n",
              "      <td>NaN</td>\n",
              "      <td>NaN</td>\n",
              "      <td>NaN</td>\n",
              "      <td>NaN</td>\n",
              "      <td>NaN</td>\n",
              "      <td>NaN</td>\n",
              "      <td>NaN</td>\n",
              "      <td>NaN</td>\n",
              "      <td>NaN</td>\n",
              "      <td>NaN</td>\n",
              "    </tr>\n",
              "  </tbody>\n",
              "</table>\n",
              "<p>5 rows × 47 columns</p>\n",
              "</div>\n",
              "      <button class=\"colab-df-convert\" onclick=\"convertToInteractive('df-b0a9722f-6787-4848-b5c5-9f3ad128d75f')\"\n",
              "              title=\"Convert this dataframe to an interactive table.\"\n",
              "              style=\"display:none;\">\n",
              "        \n",
              "  <svg xmlns=\"http://www.w3.org/2000/svg\" height=\"24px\"viewBox=\"0 0 24 24\"\n",
              "       width=\"24px\">\n",
              "    <path d=\"M0 0h24v24H0V0z\" fill=\"none\"/>\n",
              "    <path d=\"M18.56 5.44l.94 2.06.94-2.06 2.06-.94-2.06-.94-.94-2.06-.94 2.06-2.06.94zm-11 1L8.5 8.5l.94-2.06 2.06-.94-2.06-.94L8.5 2.5l-.94 2.06-2.06.94zm10 10l.94 2.06.94-2.06 2.06-.94-2.06-.94-.94-2.06-.94 2.06-2.06.94z\"/><path d=\"M17.41 7.96l-1.37-1.37c-.4-.4-.92-.59-1.43-.59-.52 0-1.04.2-1.43.59L10.3 9.45l-7.72 7.72c-.78.78-.78 2.05 0 2.83L4 21.41c.39.39.9.59 1.41.59.51 0 1.02-.2 1.41-.59l7.78-7.78 2.81-2.81c.8-.78.8-2.07 0-2.86zM5.41 20L4 18.59l7.72-7.72 1.47 1.35L5.41 20z\"/>\n",
              "  </svg>\n",
              "      </button>\n",
              "      \n",
              "  <style>\n",
              "    .colab-df-container {\n",
              "      display:flex;\n",
              "      flex-wrap:wrap;\n",
              "      gap: 12px;\n",
              "    }\n",
              "\n",
              "    .colab-df-convert {\n",
              "      background-color: #E8F0FE;\n",
              "      border: none;\n",
              "      border-radius: 50%;\n",
              "      cursor: pointer;\n",
              "      display: none;\n",
              "      fill: #1967D2;\n",
              "      height: 32px;\n",
              "      padding: 0 0 0 0;\n",
              "      width: 32px;\n",
              "    }\n",
              "\n",
              "    .colab-df-convert:hover {\n",
              "      background-color: #E2EBFA;\n",
              "      box-shadow: 0px 1px 2px rgba(60, 64, 67, 0.3), 0px 1px 3px 1px rgba(60, 64, 67, 0.15);\n",
              "      fill: #174EA6;\n",
              "    }\n",
              "\n",
              "    [theme=dark] .colab-df-convert {\n",
              "      background-color: #3B4455;\n",
              "      fill: #D2E3FC;\n",
              "    }\n",
              "\n",
              "    [theme=dark] .colab-df-convert:hover {\n",
              "      background-color: #434B5C;\n",
              "      box-shadow: 0px 1px 3px 1px rgba(0, 0, 0, 0.15);\n",
              "      filter: drop-shadow(0px 1px 2px rgba(0, 0, 0, 0.3));\n",
              "      fill: #FFFFFF;\n",
              "    }\n",
              "  </style>\n",
              "\n",
              "      <script>\n",
              "        const buttonEl =\n",
              "          document.querySelector('#df-b0a9722f-6787-4848-b5c5-9f3ad128d75f button.colab-df-convert');\n",
              "        buttonEl.style.display =\n",
              "          google.colab.kernel.accessAllowed ? 'block' : 'none';\n",
              "\n",
              "        async function convertToInteractive(key) {\n",
              "          const element = document.querySelector('#df-b0a9722f-6787-4848-b5c5-9f3ad128d75f');\n",
              "          const dataTable =\n",
              "            await google.colab.kernel.invokeFunction('convertToInteractive',\n",
              "                                                     [key], {});\n",
              "          if (!dataTable) return;\n",
              "\n",
              "          const docLinkHtml = 'Like what you see? Visit the ' +\n",
              "            '<a target=\"_blank\" href=https://colab.research.google.com/notebooks/data_table.ipynb>data table notebook</a>'\n",
              "            + ' to learn more about interactive tables.';\n",
              "          element.innerHTML = '';\n",
              "          dataTable['output_type'] = 'display_data';\n",
              "          await google.colab.output.renderOutput(dataTable, element);\n",
              "          const docLink = document.createElement('div');\n",
              "          docLink.innerHTML = docLinkHtml;\n",
              "          element.appendChild(docLink);\n",
              "        }\n",
              "      </script>\n",
              "    </div>\n",
              "  </div>\n",
              "  "
            ]
          },
          "metadata": {},
          "execution_count": 17
        }
      ]
    },
    {
      "cell_type": "code",
      "source": [
        "concatenated_target.head()"
      ],
      "metadata": {
        "colab": {
          "base_uri": "https://localhost:8080/"
        },
        "id": "YmQ-iP6a2MRU",
        "outputId": "62f33386-2404-46dd-f647-42f8f67e7990"
      },
      "execution_count": 18,
      "outputs": [
        {
          "output_type": "execute_result",
          "data": {
            "text/plain": [
              "0    0\n",
              "1    0\n",
              "2    0\n",
              "3    0\n",
              "4    0\n",
              "Name: Target, dtype: int64"
            ]
          },
          "metadata": {},
          "execution_count": 18
        }
      ]
    },
    {
      "cell_type": "code",
      "source": [
        "PandasTools.WriteSDF(concatenated_df, '/content/my_modified_dataframe.sdf')\n",
        "# Download the file to your local computer\n",
        "from google.colab import files\n",
        "files.download('/content/my_modified_dataframe.sdf')"
      ],
      "metadata": {
        "colab": {
          "base_uri": "https://localhost:8080/",
          "height": 17
        },
        "id": "wCn-R7_09jhY",
        "outputId": "f0e2b2c4-77fd-4d24-cc2e-b43658a72f85"
      },
      "execution_count": 12,
      "outputs": [
        {
          "output_type": "display_data",
          "data": {
            "text/plain": [
              "<IPython.core.display.Javascript object>"
            ],
            "application/javascript": [
              "\n",
              "    async function download(id, filename, size) {\n",
              "      if (!google.colab.kernel.accessAllowed) {\n",
              "        return;\n",
              "      }\n",
              "      const div = document.createElement('div');\n",
              "      const label = document.createElement('label');\n",
              "      label.textContent = `Downloading \"${filename}\": `;\n",
              "      div.appendChild(label);\n",
              "      const progress = document.createElement('progress');\n",
              "      progress.max = size;\n",
              "      div.appendChild(progress);\n",
              "      document.body.appendChild(div);\n",
              "\n",
              "      const buffers = [];\n",
              "      let downloaded = 0;\n",
              "\n",
              "      const channel = await google.colab.kernel.comms.open(id);\n",
              "      // Send a message to notify the kernel that we're ready.\n",
              "      channel.send({})\n",
              "\n",
              "      for await (const message of channel.messages) {\n",
              "        // Send a message to notify the kernel that we're ready.\n",
              "        channel.send({})\n",
              "        if (message.buffers) {\n",
              "          for (const buffer of message.buffers) {\n",
              "            buffers.push(buffer);\n",
              "            downloaded += buffer.byteLength;\n",
              "            progress.value = downloaded;\n",
              "          }\n",
              "        }\n",
              "      }\n",
              "      const blob = new Blob(buffers, {type: 'application/binary'});\n",
              "      const a = document.createElement('a');\n",
              "      a.href = window.URL.createObjectURL(blob);\n",
              "      a.download = filename;\n",
              "      div.appendChild(a);\n",
              "      a.click();\n",
              "      div.remove();\n",
              "    }\n",
              "  "
            ]
          },
          "metadata": {}
        },
        {
          "output_type": "display_data",
          "data": {
            "text/plain": [
              "<IPython.core.display.Javascript object>"
            ],
            "application/javascript": [
              "download(\"download_e0d81896-cd90-474f-9d86-530ba840f383\", \"my_modified_dataframe.sdf\", 1810996)"
            ]
          },
          "metadata": {}
        }
      ]
    },
    {
      "cell_type": "code",
      "source": [
        "concatenated_target.to_csv('/content/sample_data/my_data.csv', index=False)\n",
        "from google.colab import files\n",
        "files.download('/content/sample_data/my_data.csv')"
      ],
      "metadata": {
        "colab": {
          "base_uri": "https://localhost:8080/",
          "height": 17
        },
        "id": "S6m3EwhZCpV9",
        "outputId": "9cc142ad-55fd-41db-c2c5-a39a1d62282a"
      },
      "execution_count": 19,
      "outputs": [
        {
          "output_type": "display_data",
          "data": {
            "text/plain": [
              "<IPython.core.display.Javascript object>"
            ],
            "application/javascript": [
              "\n",
              "    async function download(id, filename, size) {\n",
              "      if (!google.colab.kernel.accessAllowed) {\n",
              "        return;\n",
              "      }\n",
              "      const div = document.createElement('div');\n",
              "      const label = document.createElement('label');\n",
              "      label.textContent = `Downloading \"${filename}\": `;\n",
              "      div.appendChild(label);\n",
              "      const progress = document.createElement('progress');\n",
              "      progress.max = size;\n",
              "      div.appendChild(progress);\n",
              "      document.body.appendChild(div);\n",
              "\n",
              "      const buffers = [];\n",
              "      let downloaded = 0;\n",
              "\n",
              "      const channel = await google.colab.kernel.comms.open(id);\n",
              "      // Send a message to notify the kernel that we're ready.\n",
              "      channel.send({})\n",
              "\n",
              "      for await (const message of channel.messages) {\n",
              "        // Send a message to notify the kernel that we're ready.\n",
              "        channel.send({})\n",
              "        if (message.buffers) {\n",
              "          for (const buffer of message.buffers) {\n",
              "            buffers.push(buffer);\n",
              "            downloaded += buffer.byteLength;\n",
              "            progress.value = downloaded;\n",
              "          }\n",
              "        }\n",
              "      }\n",
              "      const blob = new Blob(buffers, {type: 'application/binary'});\n",
              "      const a = document.createElement('a');\n",
              "      a.href = window.URL.createObjectURL(blob);\n",
              "      a.download = filename;\n",
              "      div.appendChild(a);\n",
              "      a.click();\n",
              "      div.remove();\n",
              "    }\n",
              "  "
            ]
          },
          "metadata": {}
        },
        {
          "output_type": "display_data",
          "data": {
            "text/plain": [
              "<IPython.core.display.Javascript object>"
            ],
            "application/javascript": [
              "download(\"download_68fbcabf-f62e-4a9e-ad00-eb0fbed52f6e\", \"my_data.csv\", 7379)"
            ]
          },
          "metadata": {}
        }
      ]
    },
    {
      "cell_type": "code",
      "source": [
        "print(concatenated_df.shape)"
      ],
      "metadata": {
        "colab": {
          "base_uri": "https://localhost:8080/"
        },
        "id": "cccHUGmYiWH7",
        "outputId": "4ae7a757-6588-4419-ec69-aea2f9b35f3d"
      },
      "execution_count": 30,
      "outputs": [
        {
          "output_type": "stream",
          "name": "stdout",
          "text": [
            "(3686, 48)\n"
          ]
        }
      ]
    }
  ]
}